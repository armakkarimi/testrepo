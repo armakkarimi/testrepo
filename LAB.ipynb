{
 "cells": [
  {
   "cell_type": "markdown",
   "id": "1a60cab6-5f1d-4459-9e82-55c297d1bba2",
   "metadata": {
    "tags": []
   },
   "source": [
    "# My Jupyter Notebook on IBM Watson Studio"
   ]
  },
  {
   "cell_type": "markdown",
   "id": "d49e8246-5dfc-4552-8c20-4ce305c849b2",
   "metadata": {
    "tags": []
   },
   "source": [
    "**Armak Karimi** <br>\n",
    "Currently working as a data analyst in Banc Sabadell."
   ]
  },
  {
   "cell_type": "markdown",
   "id": "072942e0-b509-4c6d-9bce-84b922eadf80",
   "metadata": {},
   "source": [
    "*I am interested in data science because it helps companies to make better strategic decisions.*"
   ]
  },
  {
   "cell_type": "markdown",
   "id": "75b8bba8-e7fb-46c6-9752-dd9abf933de0",
   "metadata": {},
   "source": [
    "### This code will give you the sum of two given numbers."
   ]
  },
  {
   "cell_type": "code",
   "execution_count": 10,
   "id": "a3525b09-2d50-44d6-8a1c-738c3737bde8",
   "metadata": {
    "tags": []
   },
   "outputs": [
    {
     "name": "stdout",
     "output_type": "stream",
     "text": [
      "The sum of 59 and 6 is 65.\n"
     ]
    }
   ],
   "source": [
    "x = 59\n",
    "y = 6\n",
    "z = x+y\n",
    "print(f\"The sum of {x} and {y} is {z}.\")"
   ]
  },
  {
   "cell_type": "markdown",
   "id": "dae68a4f-324b-43cc-b43d-6586df263f46",
   "metadata": {},
   "source": [
    "<hr> <br>\n",
    "\n",
    "|Name |Quantity|\n",
    "|-----|--------|\n",
    "|Apple|3       |\n",
    "|Egg  |12      |\n",
    "\n",
    "<br>\n",
    "<a href=\"https://dataplatform.cloud.ibm.com/gallery\">IBM Cloud Gallery</a>\n",
    "\n",
    "<br> <br>\n",
    "I have done:\n",
    "\n",
    "1. Horizontal rule\n",
    "2. Table\n",
    "3. Hyperlink\n",
    "4. Numbered list"
   ]
  }
 ],
 "metadata": {
  "kernelspec": {
   "display_name": "Python",
   "language": "python",
   "name": "conda-env-python-py"
  },
  "language_info": {
   "codemirror_mode": {
    "name": "ipython",
    "version": 3
   },
   "file_extension": ".py",
   "mimetype": "text/x-python",
   "name": "python",
   "nbconvert_exporter": "python",
   "pygments_lexer": "ipython3",
   "version": "3.7.12"
  }
 },
 "nbformat": 4,
 "nbformat_minor": 5
}
